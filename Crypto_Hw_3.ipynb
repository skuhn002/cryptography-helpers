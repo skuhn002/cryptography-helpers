{
 "cells": [
  {
   "cell_type": "code",
   "execution_count": 1,
   "metadata": {},
   "outputs": [],
   "source": [
    "import numpy as np\n",
    "import numpy.linalg as la"
   ]
  },
  {
   "cell_type": "code",
   "execution_count": 2,
   "metadata": {},
   "outputs": [],
   "source": [
    "a = [2, 5, 0]\n",
    "b = [6, 0, 7]\n",
    "c = [5, 11, 7]"
   ]
  },
  {
   "cell_type": "code",
   "execution_count": 3,
   "metadata": {},
   "outputs": [
    {
     "name": "stdout",
     "output_type": "stream",
     "text": [
      "[[ 2  5  0]\n",
      " [ 6  0  7]\n",
      " [ 5 11  7]]\n"
     ]
    }
   ],
   "source": [
    "m = np.array([a, b, c])\n",
    "print(m)"
   ]
  },
  {
   "cell_type": "code",
   "execution_count": 4,
   "metadata": {},
   "outputs": [
    {
     "name": "stdout",
     "output_type": "stream",
     "text": [
      "[[ 2  6  5]\n",
      " [ 5  0 11]\n",
      " [ 0  7  7]]\n"
     ]
    }
   ],
   "source": [
    "mT = np.transpose(m)\n",
    "print(mT)"
   ]
  },
  {
   "cell_type": "code",
   "execution_count": 5,
   "metadata": {},
   "outputs": [
    {
     "name": "stdout",
     "output_type": "stream",
     "text": [
      "-189.00000000000003\n"
     ]
    }
   ],
   "source": [
    "det_m = la.det(m)\n",
    "print(det_m)"
   ]
  },
  {
   "cell_type": "code",
   "execution_count": 6,
   "metadata": {},
   "outputs": [
    {
     "name": "stdout",
     "output_type": "stream",
     "text": [
      "[[-0.01058201 -0.03174603 -0.02645503]\n",
      " [-0.02645503  0.         -0.05820106]\n",
      " [ 0.         -0.03703704 -0.03703704]]\n"
     ]
    }
   ],
   "source": [
    "alt_det_m = -119\n",
    "\n",
    "mInv = np.dot((1/det_m), mT) # this isn't exactly supposed to be the transpose\n",
    "\n",
    "\n",
    "print(mInv)"
   ]
  },
  {
   "cell_type": "code",
   "execution_count": 7,
   "metadata": {},
   "outputs": [
    {
     "data": {
      "text/plain": [
       "array([[-0.15343915, -0.06349206, -0.34391534],\n",
       "       [-0.06349206, -0.44973545, -0.41798942],\n",
       "       [-0.34391534, -0.41798942, -1.03174603]])"
      ]
     },
     "execution_count": 7,
     "metadata": {},
     "output_type": "execute_result"
    }
   ],
   "source": [
    "np.matmul(m,mInv)"
   ]
  },
  {
   "cell_type": "markdown",
   "metadata": {},
   "source": [
    "# Hill Cypher: encryption (multiply matrix x vector)"
   ]
  },
  {
   "cell_type": "code",
   "execution_count": 8,
   "metadata": {},
   "outputs": [
    {
     "ename": "NameError",
     "evalue": "name 'mInv3' is not defined",
     "output_type": "error",
     "traceback": [
      "\u001b[1;31m---------------------------------------------------------------------------\u001b[0m",
      "\u001b[1;31mNameError\u001b[0m                                 Traceback (most recent call last)",
      "\u001b[1;32m<ipython-input-8-704452bac576>\u001b[0m in \u001b[0;36m<module>\u001b[1;34m\u001b[0m\n\u001b[0;32m      6\u001b[0m \u001b[1;33m\u001b[0m\u001b[0m\n\u001b[0;32m      7\u001b[0m \u001b[1;31m#inv only -- run bottom cells before this\u001b[0m\u001b[1;33m\u001b[0m\u001b[1;33m\u001b[0m\u001b[1;33m\u001b[0m\u001b[0m\n\u001b[1;32m----> 8\u001b[1;33m \u001b[0mm2\u001b[0m \u001b[1;33m=\u001b[0m \u001b[0mmInv3\u001b[0m\u001b[1;33m.\u001b[0m\u001b[0mcopy\u001b[0m\u001b[1;33m(\u001b[0m\u001b[1;33m)\u001b[0m\u001b[1;33m\u001b[0m\u001b[1;33m\u001b[0m\u001b[0m\n\u001b[0m\u001b[0;32m      9\u001b[0m \u001b[1;33m\u001b[0m\u001b[0m\n\u001b[0;32m     10\u001b[0m \u001b[0mprint\u001b[0m\u001b[1;33m(\u001b[0m\u001b[0mm2\u001b[0m\u001b[1;33m)\u001b[0m\u001b[1;33m\u001b[0m\u001b[1;33m\u001b[0m\u001b[0m\n",
      "\u001b[1;31mNameError\u001b[0m: name 'mInv3' is not defined"
     ]
    }
   ],
   "source": [
    "d = [5, 6]\n",
    "e = [-2, -3]\n",
    "\n",
    "m2 = np.array([d, e])\n",
    "\n",
    "\n",
    "#inv only -- run bottom cells before this\n",
    "m2 = mInv3.copy()\n",
    "\n",
    "print(m2)"
   ]
  },
  {
   "cell_type": "code",
   "execution_count": 9,
   "metadata": {
    "scrolled": true
   },
   "outputs": [
    {
     "name": "stdout",
     "output_type": "stream",
     "text": [
      "[[24]\n",
      " [ 1]]\n"
     ]
    }
   ],
   "source": [
    "top = [24]\n",
    "btm = [1]\n",
    "\n",
    "vct = np.array([top, btm])\n",
    "print(vct)"
   ]
  },
  {
   "cell_type": "code",
   "execution_count": 10,
   "metadata": {},
   "outputs": [
    {
     "name": "stdout",
     "output_type": "stream",
     "text": [
      "[[126]\n",
      " [-51]]\n"
     ]
    }
   ],
   "source": [
    "new_vct = np.matmul(m2, vct)\n",
    "print(new_vct)"
   ]
  },
  {
   "cell_type": "code",
   "execution_count": 11,
   "metadata": {},
   "outputs": [
    {
     "name": "stdout",
     "output_type": "stream",
     "text": [
      "[[22]\n",
      " [ 1]]\n"
     ]
    }
   ],
   "source": [
    "alph_vct = np.array([[-1],[-1]])\n",
    "\n",
    "for i in range(len(new_vct)):\n",
    "    alph_vct[i][0] = int(new_vct[i][0].copy()) % 26\n",
    "print(alph_vct)"
   ]
  },
  {
   "cell_type": "markdown",
   "metadata": {},
   "source": [
    "# Hill Cypher: decryption"
   ]
  },
  {
   "cell_type": "markdown",
   "metadata": {},
   "source": [
    "# Invert 2x2 Matrix"
   ]
  },
  {
   "cell_type": "code",
   "execution_count": null,
   "metadata": {},
   "outputs": [],
   "source": [
    "f = [5, 6]\n",
    "g = [-2, -3]\n",
    "\n",
    "m3 = np.matrix([f, g])\n",
    "\n",
    "print(m3)"
   ]
  },
  {
   "cell_type": "code",
   "execution_count": null,
   "metadata": {},
   "outputs": [],
   "source": [
    "#find det of m3\n",
    "\n",
    "det_m3 = la.det(m3)\n",
    "#print(det)\n",
    "\n",
    "#create special matrix -- matrix used for finding the inverse matrix\n",
    "m3_Spc = m3.copy()\n",
    "m3_Spc[0,0] = m3[1,1] #flip a and d\n",
    "m3_Spc[1, 1] = m3[0, 0]\n",
    "m3_Spc[0,1] = -m3_Spc[0, 1] #make b and c negative\n",
    "m3_Spc[1, 0] = -m3_Spc[1, 0]\n",
    "\n",
    "#m3_Spc[:, :]\n",
    "\n",
    "#make inverse matrix\n",
    "\n",
    "mInv3 = np.dot((1/det_m3), m3_Spc)\n",
    "\n",
    "\n",
    "#print matrix, inverse, and product\n",
    "#print(m3)\n",
    "print(mInv3)\n",
    "np.matmul(mInv3, m3)"
   ]
  },
  {
   "cell_type": "markdown",
   "metadata": {},
   "source": [
    "# Fast Modular Exponentiation"
   ]
  },
  {
   "cell_type": "code",
   "execution_count": 12,
   "metadata": {},
   "outputs": [
    {
     "name": "stdout",
     "output_type": "stream",
     "text": [
      "The highest power of 372 neccesary to represent 372^15 is 8.0\n",
      "The answer is: 183 (mod 821) \n"
     ]
    }
   ],
   "source": [
    "import math\n",
    "\n",
    "params = [372, 15, 821] #base, power, modulus\n",
    "\n",
    "base = params[0]\n",
    "power = params[1]\n",
    "modulus = params[2]\n",
    "\n",
    "modular_equivalents = [] #these are the modular equivalents of powers of the base\n",
    "\n",
    "max_pow_2chk = 1\n",
    "\n",
    "while max_pow_2chk < power :\n",
    "    modular_equivalents.append(pow(base, max_pow_2chk) % modulus)\n",
    "    max_pow_2chk = max_pow_2chk * 2\n",
    "    \n",
    "if max_pow_2chk > power :\n",
    "    print(\"The highest power of \" + str(base) + \" neccesary to represent \" + str(base) + \"^\" + str(power) + \" is \" + str(max_pow_2chk/2))\n",
    "\n",
    "\n",
    "max_pow = max_pow_2chk/2\n",
    "max_pow_copy = max_pow\n",
    "\n",
    "coef_4_binary_expand = [] #the zero-th coeficcient corresponds to the largest power in the decomposition\n",
    "\n",
    "answer = -1 #default for error detection\n",
    "\n",
    "sum_pows_of_bases = 0\n",
    "\n",
    "solution = \"\"\n",
    "\n",
    "while max_pow_copy >= 1 and sum_pows_of_bases != power:\n",
    "    index_of_power = int(math.log(max_pow_copy, 2)) #this index of power can also be thought of as how many doublings the current max_pow_copy represents\n",
    "    if answer == -1:\n",
    "        answer = modular_equivalents[index_of_power]\n",
    "        sum_pows_of_bases = max_pow_copy\n",
    "        solution = str(base) + \"^\" + str(max_pow_copy)\n",
    "    \n",
    "    if power - sum_pows_of_bases - max_pow_copy >= 0:\n",
    "        if answer != -1:\n",
    "            answer = answer * modular_equivalents[index_of_power] % modulus\n",
    "            sum_pows_of_bases += max_pow_copy\n",
    "            solution = solution + \" * \" + str(base) + \"^\" + str(max_pow_copy)\n",
    "    max_pow_copy = max_pow_copy / 2\n",
    "    \n",
    "    \n",
    "\n",
    "    \n",
    "high_rmndr = modular_equivalents[int(math.log(max_pow, 2))]\n",
    "\n",
    "#print(\"The remainder of the highest power, smaller than \" + str(power) + \", moduluo \" + str(power) + \", is \" + str(high_rmndr))\n",
    "\n",
    "answer = str(answer)\n",
    "\n",
    "print(\"The answer is: \" + answer + \" (mod \" + str(modulus) + \") \")\n",
    "#print(solution + \" (mod \"+ str(power) +\")\")"
   ]
  },
  {
   "cell_type": "code",
   "execution_count": 13,
   "metadata": {},
   "outputs": [
    {
     "data": {
      "text/plain": [
       "616"
      ]
     },
     "execution_count": 13,
     "metadata": {},
     "output_type": "execute_result"
    }
   ],
   "source": [
    "452 * 183 % 821"
   ]
  },
  {
   "cell_type": "code",
   "execution_count": 16,
   "metadata": {},
   "outputs": [
    {
     "ename": "ModuleNotFoundError",
     "evalue": "No module named 'easygui'",
     "output_type": "error",
     "traceback": [
      "\u001b[1;31m---------------------------------------------------------------------------\u001b[0m",
      "\u001b[1;31mModuleNotFoundError\u001b[0m                       Traceback (most recent call last)",
      "\u001b[1;32m<ipython-input-16-4254cb6d7a50>\u001b[0m in \u001b[0;36m<module>\u001b[1;34m\u001b[0m\n\u001b[0;32m      1\u001b[0m \u001b[1;32mimport\u001b[0m \u001b[0mmath_n_crypto_functions\u001b[0m \u001b[1;32mas\u001b[0m \u001b[0mcryp\u001b[0m\u001b[1;33m\u001b[0m\u001b[1;33m\u001b[0m\u001b[0m\n\u001b[1;32m----> 2\u001b[1;33m \u001b[1;32mimport\u001b[0m \u001b[0measygui\u001b[0m\u001b[1;33m\u001b[0m\u001b[1;33m\u001b[0m\u001b[0m\n\u001b[0m\u001b[0;32m      3\u001b[0m \u001b[1;33m\u001b[0m\u001b[0m\n\u001b[0;32m      4\u001b[0m \u001b[0mcryp\u001b[0m\u001b[1;33m.\u001b[0m\u001b[0mfind_mlt_inv\u001b[0m\u001b[1;33m(\u001b[0m\u001b[1;33m)\u001b[0m\u001b[1;33m\u001b[0m\u001b[1;33m\u001b[0m\u001b[0m\n",
      "\u001b[1;31mModuleNotFoundError\u001b[0m: No module named 'easygui'"
     ]
    }
   ],
   "source": [
    "import math_n_crypto_functions as cryp\n",
    "import easygui\n",
    "\n",
    "cryp.find_mlt_inv()"
   ]
  },
  {
   "cell_type": "code",
   "execution_count": null,
   "metadata": {},
   "outputs": [],
   "source": [
    "628/38"
   ]
  },
  {
   "cell_type": "code",
   "execution_count": null,
   "metadata": {},
   "outputs": [],
   "source": [
    "448/2"
   ]
  },
  {
   "cell_type": "code",
   "execution_count": null,
   "metadata": {},
   "outputs": [],
   "source": [
    "pow(int(answer), 17) % 67"
   ]
  },
  {
   "cell_type": "code",
   "execution_count": null,
   "metadata": {},
   "outputs": [],
   "source": [
    "modular_equivalents"
   ]
  },
  {
   "cell_type": "code",
   "execution_count": null,
   "metadata": {},
   "outputs": [],
   "source": [
    "32 + 8 + 4 + 1"
   ]
  }
 ],
 "metadata": {
  "kernelspec": {
   "display_name": "Python 3",
   "language": "python",
   "name": "python3"
  },
  "language_info": {
   "codemirror_mode": {
    "name": "ipython",
    "version": 3
   },
   "file_extension": ".py",
   "mimetype": "text/x-python",
   "name": "python",
   "nbconvert_exporter": "python",
   "pygments_lexer": "ipython3",
   "version": "3.8.3"
  }
 },
 "nbformat": 4,
 "nbformat_minor": 4
}
